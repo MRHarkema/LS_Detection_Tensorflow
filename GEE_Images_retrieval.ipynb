{
  "nbformat": 4,
  "nbformat_minor": 0,
  "metadata": {
    "colab": {
      "name": "GEE Images retrieval.ipynb",
      "provenance": [],
      "collapsed_sections": []
    },
    "kernelspec": {
      "name": "python3",
      "display_name": "Python 3"
    },
    "language_info": {
      "name": "python"
    }
  },
  "cells": [
    {
      "cell_type": "markdown",
      "source": [
        "###**Retrieving Sentinel-2 and SRTM data from the Google Earth Engine**\n",
        "\n",
        "Mapping landslides in Hokkaido, Japan, as a result from an intense earthquake with a magnitude of mw 6.7 occurring on 6 September 2018, in the Iburi-Tobu area of Hokkaido, Japan. This resulted in approximately 6000 landslides occurring with a total area of 46 $km^2$.\n",
        "\n",
        "This practical script is transformed from a GEE script developed by Muhammad Aufaristama (m.aufaristama@utwente.nl)."
      ],
      "metadata": {
        "id": "8blC2albpGsV"
      }
    },
    {
      "cell_type": "code",
      "source": [
        "#!pip geopandas"
      ],
      "metadata": {
        "colab": {
          "base_uri": "https://localhost:8080/"
        },
        "id": "-SfHKHT2g5NQ",
        "outputId": "0aa906db-104f-41af-a055-d46a781f04c8"
      },
      "execution_count": null,
      "outputs": [
        {
          "output_type": "stream",
          "name": "stdout",
          "text": [
            "ERROR: unknown command \"geopandas\"\n"
          ]
        }
      ]
    },
    {
      "cell_type": "code",
      "source": [
        "#Importing GEE data and folium for opening interactive GEE map\n",
        "import ee\n",
        "import folium\n",
        "#import geopandas \n",
        "\n",
        "# Trigger the authentication flow.\n",
        "ee.Authenticate()\n",
        "\n",
        "# Initialize the library.\n",
        "ee.Initialize()"
      ],
      "metadata": {
        "id": "Fbp1X-jvBbjl"
      },
      "execution_count": null,
      "outputs": []
    },
    {
      "cell_type": "code",
      "execution_count": null,
      "metadata": {
        "colab": {
          "base_uri": "https://localhost:8080/",
          "height": 380
        },
        "id": "OsOYdn14pEj7",
        "outputId": "f376de26-caa5-4ba1-c603-3956650f6649"
      },
      "outputs": [
        {
          "output_type": "error",
          "ename": "EEException",
          "evalue": "ignored",
          "traceback": [
            "\u001b[0;31m---------------------------------------------------------------------------\u001b[0m",
            "\u001b[0;31mEEException\u001b[0m                               Traceback (most recent call last)",
            "\u001b[0;32m<ipython-input-2-a9ad0970cea4>\u001b[0m in \u001b[0;36m<module>\u001b[0;34m()\u001b[0m\n\u001b[1;32m      1\u001b[0m \u001b[0;31m#Define datasets that used for landslides mapping\u001b[0m\u001b[0;34m\u001b[0m\u001b[0;34m\u001b[0m\u001b[0;34m\u001b[0m\u001b[0m\n\u001b[0;32m----> 2\u001b[0;31m \u001b[0mS2\u001b[0m \u001b[0;34m=\u001b[0m \u001b[0mee\u001b[0m\u001b[0;34m.\u001b[0m\u001b[0mImageCollection\u001b[0m\u001b[0;34m(\u001b[0m\u001b[0;34m\"COPERNICUS/S2\"\u001b[0m\u001b[0;34m)\u001b[0m\u001b[0;34m\u001b[0m\u001b[0;34m\u001b[0m\u001b[0m\n\u001b[0m\u001b[1;32m      3\u001b[0m \u001b[0mDEM\u001b[0m \u001b[0;34m=\u001b[0m \u001b[0mee\u001b[0m\u001b[0;34m.\u001b[0m\u001b[0mImage\u001b[0m\u001b[0;34m(\u001b[0m\u001b[0;34m\"USGS/SRTMGL1_003\"\u001b[0m\u001b[0;34m)\u001b[0m\u001b[0;34m\u001b[0m\u001b[0;34m\u001b[0m\u001b[0m\n\u001b[1;32m      4\u001b[0m \u001b[0mJRC\u001b[0m \u001b[0;34m=\u001b[0m \u001b[0mee\u001b[0m\u001b[0;34m.\u001b[0m\u001b[0mImage\u001b[0m\u001b[0;34m(\u001b[0m\u001b[0;34m\"JRC/GSW1_3/GlobalSurfaceWater\"\u001b[0m\u001b[0;34m)\u001b[0m\u001b[0;34m\u001b[0m\u001b[0;34m\u001b[0m\u001b[0m\n\u001b[1;32m      5\u001b[0m \u001b[0;34m\u001b[0m\u001b[0m\n",
            "\u001b[0;32m/usr/local/lib/python3.7/dist-packages/ee/computedobject.py\u001b[0m in \u001b[0;36m__call__\u001b[0;34m(cls, *args, **kwargs)\u001b[0m\n\u001b[1;32m     30\u001b[0m       \u001b[0;32mreturn\u001b[0m \u001b[0margs\u001b[0m\u001b[0;34m[\u001b[0m\u001b[0;36m0\u001b[0m\u001b[0;34m]\u001b[0m\u001b[0;34m\u001b[0m\u001b[0;34m\u001b[0m\u001b[0m\n\u001b[1;32m     31\u001b[0m     \u001b[0;32melse\u001b[0m\u001b[0;34m:\u001b[0m\u001b[0;34m\u001b[0m\u001b[0;34m\u001b[0m\u001b[0m\n\u001b[0;32m---> 32\u001b[0;31m       \u001b[0;32mreturn\u001b[0m \u001b[0mtype\u001b[0m\u001b[0;34m.\u001b[0m\u001b[0m__call__\u001b[0m\u001b[0;34m(\u001b[0m\u001b[0mcls\u001b[0m\u001b[0;34m,\u001b[0m \u001b[0;34m*\u001b[0m\u001b[0margs\u001b[0m\u001b[0;34m,\u001b[0m \u001b[0;34m**\u001b[0m\u001b[0mkwargs\u001b[0m\u001b[0;34m)\u001b[0m\u001b[0;34m\u001b[0m\u001b[0;34m\u001b[0m\u001b[0m\n\u001b[0m\u001b[1;32m     33\u001b[0m \u001b[0;34m\u001b[0m\u001b[0m\n\u001b[1;32m     34\u001b[0m \u001b[0;34m\u001b[0m\u001b[0m\n",
            "\u001b[0;32m/usr/local/lib/python3.7/dist-packages/ee/imagecollection.py\u001b[0m in \u001b[0;36m__init__\u001b[0;34m(self, args)\u001b[0m\n\u001b[1;32m     36\u001b[0m       \u001b[0mEEException\u001b[0m\u001b[0;34m:\u001b[0m \u001b[0;32mif\u001b[0m \u001b[0mpassed\u001b[0m \u001b[0msomething\u001b[0m \u001b[0mother\u001b[0m \u001b[0mthan\u001b[0m \u001b[0mthe\u001b[0m \u001b[0mabove\u001b[0m\u001b[0;34m.\u001b[0m\u001b[0;34m\u001b[0m\u001b[0;34m\u001b[0m\u001b[0m\n\u001b[1;32m     37\u001b[0m     \"\"\"\n\u001b[0;32m---> 38\u001b[0;31m     \u001b[0mself\u001b[0m\u001b[0;34m.\u001b[0m\u001b[0minitialize\u001b[0m\u001b[0;34m(\u001b[0m\u001b[0;34m)\u001b[0m\u001b[0;34m\u001b[0m\u001b[0;34m\u001b[0m\u001b[0m\n\u001b[0m\u001b[1;32m     39\u001b[0m \u001b[0;34m\u001b[0m\u001b[0m\n\u001b[1;32m     40\u001b[0m     \u001b[0;31m# Wrap single images in an array.\u001b[0m\u001b[0;34m\u001b[0m\u001b[0;34m\u001b[0m\u001b[0;34m\u001b[0m\u001b[0m\n",
            "\u001b[0;32m/usr/local/lib/python3.7/dist-packages/ee/imagecollection.py\u001b[0m in \u001b[0;36minitialize\u001b[0;34m(cls)\u001b[0m\n\u001b[1;32m     70\u001b[0m     \u001b[0;34m\"\"\"Imports API functions to this class.\"\"\"\u001b[0m\u001b[0;34m\u001b[0m\u001b[0;34m\u001b[0m\u001b[0m\n\u001b[1;32m     71\u001b[0m     \u001b[0;32mif\u001b[0m \u001b[0;32mnot\u001b[0m \u001b[0mcls\u001b[0m\u001b[0;34m.\u001b[0m\u001b[0m_initialized\u001b[0m\u001b[0;34m:\u001b[0m\u001b[0;34m\u001b[0m\u001b[0;34m\u001b[0m\u001b[0m\n\u001b[0;32m---> 72\u001b[0;31m       \u001b[0msuper\u001b[0m\u001b[0;34m(\u001b[0m\u001b[0mImageCollection\u001b[0m\u001b[0;34m,\u001b[0m \u001b[0mcls\u001b[0m\u001b[0;34m)\u001b[0m\u001b[0;34m.\u001b[0m\u001b[0minitialize\u001b[0m\u001b[0;34m(\u001b[0m\u001b[0;34m)\u001b[0m\u001b[0;34m\u001b[0m\u001b[0;34m\u001b[0m\u001b[0m\n\u001b[0m\u001b[1;32m     73\u001b[0m       apifunction.ApiFunction.importApi(\n\u001b[1;32m     74\u001b[0m           cls, 'ImageCollection', 'ImageCollection')\n",
            "\u001b[0;32m/usr/local/lib/python3.7/dist-packages/ee/collection.py\u001b[0m in \u001b[0;36minitialize\u001b[0;34m(cls)\u001b[0m\n\u001b[1;32m     30\u001b[0m     \u001b[0;34m\"\"\"Imports API functions to this class.\"\"\"\u001b[0m\u001b[0;34m\u001b[0m\u001b[0;34m\u001b[0m\u001b[0m\n\u001b[1;32m     31\u001b[0m     \u001b[0;32mif\u001b[0m \u001b[0;32mnot\u001b[0m \u001b[0mcls\u001b[0m\u001b[0;34m.\u001b[0m\u001b[0m_initialized\u001b[0m\u001b[0;34m:\u001b[0m\u001b[0;34m\u001b[0m\u001b[0;34m\u001b[0m\u001b[0m\n\u001b[0;32m---> 32\u001b[0;31m       \u001b[0mapifunction\u001b[0m\u001b[0;34m.\u001b[0m\u001b[0mApiFunction\u001b[0m\u001b[0;34m.\u001b[0m\u001b[0mimportApi\u001b[0m\u001b[0;34m(\u001b[0m\u001b[0mcls\u001b[0m\u001b[0;34m,\u001b[0m \u001b[0;34m'Collection'\u001b[0m\u001b[0;34m,\u001b[0m \u001b[0;34m'Collection'\u001b[0m\u001b[0;34m)\u001b[0m\u001b[0;34m\u001b[0m\u001b[0;34m\u001b[0m\u001b[0m\n\u001b[0m\u001b[1;32m     33\u001b[0m       apifunction.ApiFunction.importApi(\n\u001b[1;32m     34\u001b[0m           cls, 'AggregateFeatureCollection', 'Collection', 'aggregate_')\n",
            "\u001b[0;32m/usr/local/lib/python3.7/dist-packages/ee/apifunction.py\u001b[0m in \u001b[0;36mimportApi\u001b[0;34m(cls, target, prefix, type_name, opt_prepend)\u001b[0m\n\u001b[1;32m    181\u001b[0m           \u001b[0madded\u001b[0m \u001b[0mfunctions\u001b[0m\u001b[0;34m.\u001b[0m\u001b[0;34m\u001b[0m\u001b[0;34m\u001b[0m\u001b[0m\n\u001b[1;32m    182\u001b[0m     \"\"\"\n\u001b[0;32m--> 183\u001b[0;31m     \u001b[0mcls\u001b[0m\u001b[0;34m.\u001b[0m\u001b[0minitialize\u001b[0m\u001b[0;34m(\u001b[0m\u001b[0;34m)\u001b[0m\u001b[0;34m\u001b[0m\u001b[0;34m\u001b[0m\u001b[0m\n\u001b[0m\u001b[1;32m    184\u001b[0m     \u001b[0mprepend\u001b[0m \u001b[0;34m=\u001b[0m \u001b[0mopt_prepend\u001b[0m \u001b[0;32mor\u001b[0m \u001b[0;34m''\u001b[0m\u001b[0;34m\u001b[0m\u001b[0;34m\u001b[0m\u001b[0m\n\u001b[1;32m    185\u001b[0m     \u001b[0;32mfor\u001b[0m \u001b[0mname\u001b[0m\u001b[0;34m,\u001b[0m \u001b[0mapi_func\u001b[0m \u001b[0;32min\u001b[0m \u001b[0mcls\u001b[0m\u001b[0;34m.\u001b[0m\u001b[0m_api\u001b[0m\u001b[0;34m.\u001b[0m\u001b[0mitems\u001b[0m\u001b[0;34m(\u001b[0m\u001b[0;34m)\u001b[0m\u001b[0;34m:\u001b[0m\u001b[0;34m\u001b[0m\u001b[0;34m\u001b[0m\u001b[0m\n",
            "\u001b[0;32m/usr/local/lib/python3.7/dist-packages/ee/apifunction.py\u001b[0m in \u001b[0;36minitialize\u001b[0;34m(cls)\u001b[0m\n\u001b[1;32m    152\u001b[0m     \u001b[0;34m\"\"\"Initializes the list of signatures from the Earth Engine front-end.\"\"\"\u001b[0m\u001b[0;34m\u001b[0m\u001b[0;34m\u001b[0m\u001b[0m\n\u001b[1;32m    153\u001b[0m     \u001b[0;32mif\u001b[0m \u001b[0;32mnot\u001b[0m \u001b[0mcls\u001b[0m\u001b[0;34m.\u001b[0m\u001b[0m_api\u001b[0m\u001b[0;34m:\u001b[0m\u001b[0;34m\u001b[0m\u001b[0;34m\u001b[0m\u001b[0m\n\u001b[0;32m--> 154\u001b[0;31m       \u001b[0msignatures\u001b[0m \u001b[0;34m=\u001b[0m \u001b[0mdata\u001b[0m\u001b[0;34m.\u001b[0m\u001b[0mgetAlgorithms\u001b[0m\u001b[0;34m(\u001b[0m\u001b[0;34m)\u001b[0m\u001b[0;34m\u001b[0m\u001b[0;34m\u001b[0m\u001b[0m\n\u001b[0m\u001b[1;32m    155\u001b[0m       \u001b[0mapi\u001b[0m \u001b[0;34m=\u001b[0m \u001b[0;34m{\u001b[0m\u001b[0;34m}\u001b[0m\u001b[0;34m\u001b[0m\u001b[0;34m\u001b[0m\u001b[0m\n\u001b[1;32m    156\u001b[0m       \u001b[0;32mfor\u001b[0m \u001b[0mname\u001b[0m\u001b[0;34m,\u001b[0m \u001b[0msig\u001b[0m \u001b[0;32min\u001b[0m \u001b[0msignatures\u001b[0m\u001b[0;34m.\u001b[0m\u001b[0mitems\u001b[0m\u001b[0;34m(\u001b[0m\u001b[0;34m)\u001b[0m\u001b[0;34m:\u001b[0m\u001b[0;34m\u001b[0m\u001b[0;34m\u001b[0m\u001b[0m\n",
            "\u001b[0;32m/usr/local/lib/python3.7/dist-packages/ee/data.py\u001b[0m in \u001b[0;36mgetAlgorithms\u001b[0;34m()\u001b[0m\n\u001b[1;32m   1053\u001b[0m   \"\"\"\n\u001b[1;32m   1054\u001b[0m   \u001b[0;32mtry\u001b[0m\u001b[0;34m:\u001b[0m\u001b[0;34m\u001b[0m\u001b[0;34m\u001b[0m\u001b[0m\n\u001b[0;32m-> 1055\u001b[0;31m     call = _get_cloud_api_resource().projects().algorithms().list(\n\u001b[0m\u001b[1;32m   1056\u001b[0m         parent=_get_projects_path(), prettyPrint=False)\n\u001b[1;32m   1057\u001b[0m   \u001b[0;32mexcept\u001b[0m \u001b[0mTypeError\u001b[0m\u001b[0;34m:\u001b[0m\u001b[0;34m\u001b[0m\u001b[0;34m\u001b[0m\u001b[0m\n",
            "\u001b[0;32m/usr/local/lib/python3.7/dist-packages/ee/data.py\u001b[0m in \u001b[0;36m_get_cloud_api_resource\u001b[0;34m()\u001b[0m\n\u001b[1;32m    283\u001b[0m   \u001b[0;32mif\u001b[0m \u001b[0m_cloud_api_resource\u001b[0m \u001b[0;32mis\u001b[0m \u001b[0;32mNone\u001b[0m\u001b[0;34m:\u001b[0m\u001b[0;34m\u001b[0m\u001b[0;34m\u001b[0m\u001b[0m\n\u001b[1;32m    284\u001b[0m     raise ee_exception.EEException(\n\u001b[0;32m--> 285\u001b[0;31m         'Earth Engine client library not initialized. Run `ee.Initialize()`')\n\u001b[0m\u001b[1;32m    286\u001b[0m   \u001b[0;32mreturn\u001b[0m \u001b[0m_cloud_api_resource\u001b[0m\u001b[0;34m\u001b[0m\u001b[0;34m\u001b[0m\u001b[0m\n\u001b[1;32m    287\u001b[0m \u001b[0;34m\u001b[0m\u001b[0m\n",
            "\u001b[0;31mEEException\u001b[0m: Earth Engine client library not initialized. Run `ee.Initialize()`"
          ]
        }
      ],
      "source": [
        "#Define datasets that used for landslides mapping\n",
        "S2 = ee.ImageCollection(\"COPERNICUS/S2\")\n",
        "DEM = ee.Image(\"USGS/SRTMGL1_003\")\n",
        "JRC = ee.Image(\"JRC/GSW1_3/GlobalSurfaceWater\")\n",
        "\n",
        "#Manual mapping inventory produced by Zhang et al 2018 using very high resolution image\n",
        "table = ee.FeatureCollection(\"users/aufaristama/landslide_inventory_iburi\")\n",
        "\n",
        "#Define your area, in this case we use Iburi, Hokkaido, Japan\n",
        "ROI =  ee.Geometry.Polygon(\n",
        "        [[[141.78777264285623, 42.921828145704644],\n",
        "          [141.78777264285623, 42.5723893718531],\n",
        "          [142.1825938098484, 42.5723893718531],\n",
        "          [142.1825938098484, 42.921828145704644]]], None, False)\n",
        "\n",
        "#Calculate slope from DEM\n",
        "terrain = ee.Terrain.products(DEM.select('elevation'))\n",
        "slope = terrain.select('slope').clip(ROI)        \n",
        "\n",
        "#Create function to mask water from the image\n",
        "def maskwater(image):\n",
        "  water_mask = JRC.select(['max_extent']).lt(1)\n",
        "  return image.updateMask(water_mask)\n",
        "\n",
        "#Create function to mask cloud from the image\n",
        "def maskS2clouds(image):\n",
        "  qa = image.select('QA60')\n",
        "  #Bits 10 and 11 are clouds and cirrus, respectively.\n",
        "  cloudBitMask = 1 << 10 \n",
        "  cirrusBitMask = 1 << 11 \n",
        "  #Both flags should be set to zero, indicating clear conditions.\n",
        "  mask = qa.bitwiseAnd(cloudBitMask).eq(0).And(\n",
        "             qa.bitwiseAnd(cirrusBitMask).eq(0))\n",
        "  return image.updateMask(mask) \\\n",
        "      .select(\"B.*\") \\\n",
        "      .copyProperties(image, [\"system:time_start\"])\n",
        "\n",
        "#Create function to calculate the NDVI (Normalized Difference Vegetation Index)\n",
        "def addindices(image):\n",
        "  ndvi = image.normalizedDifference(['B8', 'B4']).rename('ndvi')\n",
        "  return image.addBands(ndvi)\n",
        "\n",
        "#Filter the pre-event image (Before the event)\n",
        "pre_event = S2 \\\n",
        "  .filter(ee.Filter.date('2015-09-01', '2018-09-05')) \\\n",
        "  .filter(ee.Filter.bounds(ROI)) \\\n",
        "  .filter(ee.Filter.lt('CLOUDY_PIXEL_PERCENTAGE', 30)) \\\n",
        "  .map(maskwater) \\\n",
        "  .map(maskS2clouds) \\\n",
        "  .map(addindices)\n",
        "print(pre_event.size().getInfo(), 'pre_event')\n",
        "\n",
        "#Filter the post-event image (After the event)\n",
        "post_event = S2 \\\n",
        "  .filter(ee.Filter.date('2018-09-07', '2020-09-01')) \\\n",
        "  .filter(ee.Filter.bounds(ROI)) \\\n",
        "  .filter(ee.Filter.lt('CLOUDY_PIXEL_PERCENTAGE', 30)) \\\n",
        "  .map(maskwater) \\\n",
        "  .map(maskS2clouds) \\\n",
        "  .map(addindices) \n",
        "#print(post_event, 'total_image_post')\n",
        "print(pre_event.size().getInfo(), 'post_event')\n",
        "\n",
        "#Calculate relative difference for change detection\n",
        "#more details on https://nhess.copernicus.org/articles/21/1495/2021/nhess-21-1495-2021.html\n",
        "rd_subtract = post_event.max().subtract(pre_event.max())\n",
        "rd_add = pre_event.max().add(post_event.max())\n",
        "rd_sqrt = rd_add.sqrt()\n",
        "rd = (rd_subtract.divide(rd_sqrt)).multiply(100)\n",
        "\n",
        "\n",
        "##Quantify the threshold value, you can delete /* and */ if you already define the sample area and give the name \"sample\"\n",
        "sample = ee.Geometry.Polygon(\n",
        "        [[[141.9017322780952, 42.80632392202265],\n",
        "          [141.9017322780952, 42.786548149918346],\n",
        "          [141.92473490260693, 42.786548149918346],\n",
        "          [141.92473490260693, 42.80632392202265]]], None, False)\n",
        "\n",
        "#mean\n",
        "mean = rd.select('ndvi').reduceRegion(reducer= ee.Reducer.mean(),\n",
        "  geometry= sample,\n",
        "  scale= 10)\n",
        "print(mean.getInfo(),'mean')\n",
        "\n",
        "#standard deviation\n",
        "stdev = rd.select('ndvi').reduceRegion(reducer= ee.Reducer.stdDev(), \n",
        "  geometry= sample,\n",
        "  scale= 10)\n",
        "print(stdev.getInfo(),'stdev')\n",
        "\n",
        "#Threshold min max\n",
        "thmin = ee.Number(mean.get('ndvi')).subtract(ee.Number(stdev.get('ndvi')))\n",
        "thmax = ee.Number(mean.get('ndvi')).add(ee.Number(stdev.get('ndvi')))\n",
        "print(thmin.getInfo(),'thmin')\n",
        "print(thmax.getInfo(),'thmax')\n",
        "\n",
        "\n",
        "#Setup the rule/knowledge based thresholds to create binary raster of landslides\n",
        "landslide_binary = rd.select('ndvi').gt(-64).And(rd.select('ndvi').lt(-25)).And(slope.gt(10)).selfMask()\n",
        "\n",
        "#Convert the binary into vector(shape_files)\n",
        "landslide_inventories = landslide_binary.reduceToVectors(\n",
        "  geometry= ROI,\n",
        "  scale= 10,\n",
        "  geometryType= 'polygon',\n",
        "  eightConnected= False,\n",
        "  labelProperty= 'zone',\n",
        "  maxPixels= 1e8)\n",
        "\n",
        "##Display the results in Google Earth Engine\n",
        "#Define a method for displaying Earth Engine image tiles to folium map.\n",
        "def add_ee_layer(self, ee_image_object, vis_params, name):\n",
        "  map_id_dict = ee.Image(ee_image_object).getMapId(vis_params)\n",
        "  folium.raster_layers.TileLayer(\n",
        "    tiles = map_id_dict['tile_fetcher'].url_format,\n",
        "    attr = \"Map Data © Google Earth Engine\",\n",
        "    name = name,\n",
        "    overlay = True,\n",
        "    control = True\n",
        "  ).add_to(self)\n",
        "\n",
        "#Add EE drawing method to folium.\n",
        "folium.Map.add_ee_layer = add_ee_layer\n",
        "\n",
        "#Set visualization parameters for slope.\n",
        "vis_params = {\n",
        "  'min': 0,\n",
        "  'max': 100000000,\n",
        "  'palette': ['006633', 'E5FFCC', '662A00', 'D8D8D8', 'F5F5F5']\n",
        "  }\n",
        "\n",
        "#Set visualization parameters for visible images.\n",
        "vis_params1 = {\n",
        "  'min': 0,\n",
        "  'max': 3000,\n",
        "  'bands': ['B4', 'B3', 'B2']\n",
        "  }\n",
        "\n",
        "#Set visualization parameters for NDVI.\n",
        "vis_params2 = {\n",
        "  'min': -1,\n",
        "  'max': 1, #0.85\n",
        "  'palette': [   'FFFFFF', 'CE7E45', 'DF923D', 'F1B555', 'FCD163', '99B718',\n",
        "  '74A901', '66A000', '529400', '3E8601', '207401', '056201',\n",
        "  '004C00', '023B01', '012E01', '011D01', '011301']\n",
        "  }\n",
        "\n",
        "#Set visualization parameters for landslide binary.\n",
        "vis_params3 = {\n",
        "  'min': 0,\n",
        "  'max': 1,\n",
        "  'palette': 'red'\n",
        "  }\n",
        "\n",
        "#Set visualization parameters for reference data.\n",
        "vis_params4 = {\n",
        "  'min': 0,\n",
        "  'max': 1,\n",
        "  'palette': ['662A00', 'D8D8D8', 'F5F5F5']\n",
        "  }\n",
        "\n",
        "#Create a folium map object with zoom in to location.\n",
        "location = (42.765669, 142.007348)\n",
        "my_map = folium.Map(location=location, zoom_start=11)\n",
        "\n",
        "#Add the slope to the map object.\n",
        "my_map.add_ee_layer(slope.updateMask(slope.gt(0)), vis_params, 'Slope')\n",
        "\n",
        "# Add the pre and post event images to the map.\n",
        "my_map.add_ee_layer(pre_event.median().clip(ROI),vis_params1, 'Visible_pre event')\n",
        "my_map.add_ee_layer(post_event.median().clip(ROI),vis_params1, 'Visible_post event')\n",
        "#my_map.add_ee_layer(pre_event.median().clip(ROI).select('B.+'),vis_params1, 'Visible_B_bands_Pre_event')\n",
        "\n",
        "#Add the pre and post event NDVI's and the relative difference to the map.\n",
        "my_map.add_ee_layer(pre_event.max().select('ndvi').clip(ROI), vis_params2, 'NDVI_pre event')\n",
        "my_map.add_ee_layer(post_event.max().select('ndvi').clip(ROI), vis_params2, 'NDVI_post event');\n",
        "my_map.add_ee_layer(rd.select('ndvi').clip(ROI),vis_params2,'Relative difference (RD) NDVI')\n",
        "\n",
        "#Adding the landslide_binary layer to the map.\n",
        "my_map.add_ee_layer(landslide_binary,vis_params3,\"Landslide_binary\")\n",
        "\n",
        "#Add the manual mapping table to the map.\n",
        "#my_map.add_ee_layer(table,vis_params4, 'inventories_Zhang_et_al')\n",
        "#my_map.add_ee_Layer(landslide_inventories, vis_params4, 'inventories_shapefiles')\n",
        "\n",
        "# Add a layer control panel to the map.\n",
        "my_map.add_child(folium.LayerControl())\n",
        "\n",
        "# Display the map.\n",
        "display(my_map)"
      ]
    },
    {
      "cell_type": "markdown",
      "source": [
        "## Exporting the pre- and post images to a harddrive.\n",
        "\n",
        "Exporting function explained on: https://developers.google.com/earth-engine/guides/exporting "
      ],
      "metadata": {
        "id": "lBqC9ZcgBB2h"
      }
    },
    {
      "cell_type": "code",
      "source": [
        "#Exporting the landslide results to your own Google drive.\n",
        "ee.batch.Export.table.toDrive(\n",
        "  collection= landslide_inventories,\n",
        "  description='inventories_iburi_2018',\n",
        "  fileFormat= 'SHP')"
      ],
      "metadata": {
        "id": "2Qhiwe_fBBKd",
        "colab": {
          "base_uri": "https://localhost:8080/"
        },
        "outputId": "82db89e9-cd4b-4b31-e844-a1170bfcc516"
      },
      "execution_count": null,
      "outputs": [
        {
          "output_type": "execute_result",
          "data": {
            "text/plain": [
              "<Task EXPORT_FEATURES: inventories_iburi_2018 (UNSUBMITTED)>"
            ]
          },
          "metadata": {},
          "execution_count": 5
        }
      ]
    },
    {
      "cell_type": "code",
      "source": [
        "#Exporting the pre_event image\n",
        "task = ee.batch.Export.image.toDrive(image=pre_event.median().select('B.+').visualize(**vis_params1), # an ee.Image object.\n",
        "                                     region=ROI,  # an ee.Geometry object.\n",
        "                                     description='pre_event-image_1',\n",
        "                                     fileNamePrefix='pre_event-image_1',\n",
        "                                     scale= 10,\n",
        "                                     maxPixels = 1e10,\n",
        "                                     fileFormat='GeoTIFF')\n",
        "\n",
        "#Exporting the pre_event ndvi\n",
        "task = ee.batch.Export.image.toDrive(image=pre_event.max().select('ndvi'),  # an ee.Image object.\n",
        "                                     region=ROI,  # an ee.Geometry object.\n",
        "                                     description='pre_event-ndvi_1',\n",
        "                                     fileNamePrefix='pre_event-ndvi_1',\n",
        "                                     scale = 10,\n",
        "                                     maxPixels = 1e10,\n",
        "                                     fileFormat='GeoTIFF')\n",
        "\n",
        "#Exporting the post_event image\n",
        "task = ee.batch.Export.image.toDrive(image=post_event.median().select('B.+').visualize(**vis_params1), # an ee.Image object.\n",
        "                                     region=ROI,  # an ee.Geometry object.\n",
        "                                     description='post_event-image',\n",
        "                                     fileNamePrefix='post_event-image',\n",
        "                                     scale= 10,\n",
        "                                     maxPixels= 1e10,\n",
        "                                     fileFormat='GeoTIFF')\n",
        "\n",
        "#Exporting the post_event ndvi\n",
        "task = ee.batch.Export.image.toDrive(image=post_event.max().select('ndvi'),  # an ee.Image object.\n",
        "                                     region=ROI,  # an ee.Geometry object.\n",
        "                                     description='post_event-ndvi_1',\n",
        "                                     fileNamePrefix='post_event-ndvi_1',\n",
        "                                     scale = 10,\n",
        "                                     maxPixels = 1e10,\n",
        "                                     fileFormat='GeoTIFF')\n",
        "\n",
        "#Exporting the relative difference (ndvi)\n",
        "task = ee.batch.Export.image.toDrive(image=rd.select('ndvi'),\n",
        "                                     region=ROI,\n",
        "                                     description='Relative_difference',\n",
        "                                     fileNamePrefix='Relative_difference',\n",
        "                                     scale = 10,\n",
        "                                     maxPixels= 1e10,\n",
        "                                     fileFormat= 'GeoTIFF')\n",
        "#Exporting the SRTM DEM\n",
        "task = ee.batch.Export.image.toDrive(image = DEM.select('elevation'),\n",
        "                                     region = ROI,\n",
        "                                     description = 'DEM_Hokkaido',\n",
        "                                     fileNamePrefix = 'DEM_Hokkaido',\n",
        "                                     scale = 10,\n",
        "                                     maxPixels = 1e10,\n",
        "                                     fileFormat = 'GeoTIFF')\n",
        "\n",
        "#Exporting the Slope\n",
        "task = ee.batch.Export.image.toDrive(image = slope,\n",
        "                                     region = ROI,\n",
        "                                     description = 'Slope_Hokkaido',\n",
        "                                     fileNamePrefix = 'Slope_Hokkaido',\n",
        "                                     scale = 10,\n",
        "                                     maxPixels = 1e10,\n",
        "                                     fileFormat = 'GeoTIFF')\n"
      ],
      "metadata": {
        "id": "Ua9hYtWAB2Z7"
      },
      "execution_count": null,
      "outputs": []
    },
    {
      "cell_type": "code",
      "source": [
        "task.start()\n",
        "task.status()"
      ],
      "metadata": {
        "colab": {
          "base_uri": "https://localhost:8080/"
        },
        "id": "RmIr31ZBr8Wh",
        "outputId": "14a2d85e-5c0b-4bec-9467-7bb50bbaff3e"
      },
      "execution_count": null,
      "outputs": [
        {
          "output_type": "execute_result",
          "data": {
            "text/plain": [
              "{'creation_timestamp_ms': 1646320841951,\n",
              " 'description': 'Relative_difference',\n",
              " 'id': 'H2QPH6V2KNP5EZLYSAQIFMZT',\n",
              " 'name': 'projects/earthengine-legacy/operations/H2QPH6V2KNP5EZLYSAQIFMZT',\n",
              " 'start_timestamp_ms': 0,\n",
              " 'state': 'READY',\n",
              " 'task_type': 'EXPORT_IMAGE',\n",
              " 'update_timestamp_ms': 1646320841951}"
            ]
          },
          "metadata": {},
          "execution_count": 21
        }
      ]
    }
  ]
}